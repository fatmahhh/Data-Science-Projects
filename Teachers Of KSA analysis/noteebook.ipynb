{
 "cells": [
  {
   "cell_type": "raw",
   "metadata": {},
   "source": [
    "Analysing the data of teachers in KSA"
   ]
  },
  {
   "cell_type": "code",
   "execution_count": 34,
   "metadata": {
    "ExecuteTime": {
     "end_time": "2022-06-27T15:29:51.937212Z",
     "start_time": "2022-06-27T15:29:51.922219Z"
    }
   },
   "outputs": [],
   "source": [
    "import numpy as np \n",
    "import pandas as pd \n",
    "import seaborn as sns"
   ]
  },
  {
   "cell_type": "code",
   "execution_count": 14,
   "metadata": {
    "ExecuteTime": {
     "end_time": "2022-06-27T15:23:36.932385Z",
     "start_time": "2022-06-27T15:23:36.916395Z"
    }
   },
   "outputs": [],
   "source": [
    "#Reading the data\n",
    "df=pd.read_csv(\"Salary by Education.csv\")"
   ]
  },
  {
   "cell_type": "code",
   "execution_count": 15,
   "metadata": {
    "ExecuteTime": {
     "end_time": "2022-06-27T15:23:37.781601Z",
     "start_time": "2022-06-27T15:23:37.752618Z"
    }
   },
   "outputs": [
    {
     "data": {
      "text/html": [
       "<div>\n",
       "<style scoped>\n",
       "    .dataframe tbody tr th:only-of-type {\n",
       "        vertical-align: middle;\n",
       "    }\n",
       "\n",
       "    .dataframe tbody tr th {\n",
       "        vertical-align: top;\n",
       "    }\n",
       "\n",
       "    .dataframe thead th {\n",
       "        text-align: right;\n",
       "    }\n",
       "</style>\n",
       "<table border=\"1\" class=\"dataframe\">\n",
       "  <thead>\n",
       "    <tr style=\"text-align: right;\">\n",
       "      <th></th>\n",
       "      <th>Degree Level</th>\n",
       "      <th>Nationality</th>\n",
       "      <th>Gender</th>\n",
       "      <th>Year Quarter</th>\n",
       "      <th>Salary</th>\n",
       "      <th>Currency</th>\n",
       "    </tr>\n",
       "  </thead>\n",
       "  <tbody>\n",
       "    <tr>\n",
       "      <th>0</th>\n",
       "      <td>Primary</td>\n",
       "      <td>NonSaudi</td>\n",
       "      <td>Female</td>\n",
       "      <td>2017 Q1</td>\n",
       "      <td>1590</td>\n",
       "      <td>SAR</td>\n",
       "    </tr>\n",
       "    <tr>\n",
       "      <th>1</th>\n",
       "      <td>Primary</td>\n",
       "      <td>NonSaudi</td>\n",
       "      <td>Male</td>\n",
       "      <td>2017 Q1</td>\n",
       "      <td>2173</td>\n",
       "      <td>SAR</td>\n",
       "    </tr>\n",
       "    <tr>\n",
       "      <th>2</th>\n",
       "      <td>Primary</td>\n",
       "      <td>Saudi</td>\n",
       "      <td>Female</td>\n",
       "      <td>2017 Q1</td>\n",
       "      <td>4172</td>\n",
       "      <td>SAR</td>\n",
       "    </tr>\n",
       "    <tr>\n",
       "      <th>3</th>\n",
       "      <td>Primary</td>\n",
       "      <td>Saudi</td>\n",
       "      <td>Male</td>\n",
       "      <td>2017 Q1</td>\n",
       "      <td>6172</td>\n",
       "      <td>SAR</td>\n",
       "    </tr>\n",
       "    <tr>\n",
       "      <th>4</th>\n",
       "      <td>Primary</td>\n",
       "      <td>NonSaudi</td>\n",
       "      <td>Female</td>\n",
       "      <td>2017 Q2</td>\n",
       "      <td>1597</td>\n",
       "      <td>SAR</td>\n",
       "    </tr>\n",
       "  </tbody>\n",
       "</table>\n",
       "</div>"
      ],
      "text/plain": [
       "  Degree Level Nationality  Gender Year Quarter  Salary Currency\n",
       "0      Primary    NonSaudi  Female      2017 Q1    1590      SAR\n",
       "1      Primary    NonSaudi    Male      2017 Q1    2173      SAR\n",
       "2      Primary       Saudi  Female      2017 Q1    4172      SAR\n",
       "3      Primary       Saudi    Male      2017 Q1    6172      SAR\n",
       "4      Primary    NonSaudi  Female      2017 Q2    1597      SAR"
      ]
     },
     "execution_count": 15,
     "metadata": {},
     "output_type": "execute_result"
    }
   ],
   "source": [
    "df.head()"
   ]
  },
  {
   "cell_type": "code",
   "execution_count": 16,
   "metadata": {
    "ExecuteTime": {
     "end_time": "2022-06-27T15:23:38.576719Z",
     "start_time": "2022-06-27T15:23:38.561726Z"
    }
   },
   "outputs": [
    {
     "data": {
      "text/plain": [
       "(504, 6)"
      ]
     },
     "execution_count": 16,
     "metadata": {},
     "output_type": "execute_result"
    }
   ],
   "source": [
    "# shape of data\n",
    "df.shape"
   ]
  },
  {
   "cell_type": "code",
   "execution_count": 17,
   "metadata": {
    "ExecuteTime": {
     "end_time": "2022-06-27T15:23:39.260966Z",
     "start_time": "2022-06-27T15:23:39.250972Z"
    }
   },
   "outputs": [
    {
     "data": {
      "text/plain": [
       "['Degree Level', 'Nationality', 'Gender', 'Year Quarter', 'Salary', 'Currency']"
      ]
     },
     "execution_count": 17,
     "metadata": {},
     "output_type": "execute_result"
    }
   ],
   "source": [
    "df.columns.to_list()"
   ]
  },
  {
   "cell_type": "code",
   "execution_count": 18,
   "metadata": {
    "ExecuteTime": {
     "end_time": "2022-06-27T15:23:40.800339Z",
     "start_time": "2022-06-27T15:23:40.765358Z"
    }
   },
   "outputs": [
    {
     "data": {
      "text/html": [
       "<div>\n",
       "<style scoped>\n",
       "    .dataframe tbody tr th:only-of-type {\n",
       "        vertical-align: middle;\n",
       "    }\n",
       "\n",
       "    .dataframe tbody tr th {\n",
       "        vertical-align: top;\n",
       "    }\n",
       "\n",
       "    .dataframe thead th {\n",
       "        text-align: right;\n",
       "    }\n",
       "</style>\n",
       "<table border=\"1\" class=\"dataframe\">\n",
       "  <thead>\n",
       "    <tr style=\"text-align: right;\">\n",
       "      <th></th>\n",
       "      <th>degree level</th>\n",
       "      <th>nationality</th>\n",
       "      <th>gender</th>\n",
       "      <th>year quarter</th>\n",
       "      <th>salary</th>\n",
       "      <th>currency</th>\n",
       "    </tr>\n",
       "  </thead>\n",
       "  <tbody>\n",
       "    <tr>\n",
       "      <th>0</th>\n",
       "      <td>Primary</td>\n",
       "      <td>NonSaudi</td>\n",
       "      <td>Female</td>\n",
       "      <td>2017 Q1</td>\n",
       "      <td>1590</td>\n",
       "      <td>SAR</td>\n",
       "    </tr>\n",
       "    <tr>\n",
       "      <th>1</th>\n",
       "      <td>Primary</td>\n",
       "      <td>NonSaudi</td>\n",
       "      <td>Male</td>\n",
       "      <td>2017 Q1</td>\n",
       "      <td>2173</td>\n",
       "      <td>SAR</td>\n",
       "    </tr>\n",
       "    <tr>\n",
       "      <th>2</th>\n",
       "      <td>Primary</td>\n",
       "      <td>Saudi</td>\n",
       "      <td>Female</td>\n",
       "      <td>2017 Q1</td>\n",
       "      <td>4172</td>\n",
       "      <td>SAR</td>\n",
       "    </tr>\n",
       "    <tr>\n",
       "      <th>3</th>\n",
       "      <td>Primary</td>\n",
       "      <td>Saudi</td>\n",
       "      <td>Male</td>\n",
       "      <td>2017 Q1</td>\n",
       "      <td>6172</td>\n",
       "      <td>SAR</td>\n",
       "    </tr>\n",
       "    <tr>\n",
       "      <th>4</th>\n",
       "      <td>Primary</td>\n",
       "      <td>NonSaudi</td>\n",
       "      <td>Female</td>\n",
       "      <td>2017 Q2</td>\n",
       "      <td>1597</td>\n",
       "      <td>SAR</td>\n",
       "    </tr>\n",
       "  </tbody>\n",
       "</table>\n",
       "</div>"
      ],
      "text/plain": [
       "  degree level nationality  gender year quarter  salary currency\n",
       "0      Primary    NonSaudi  Female      2017 Q1    1590      SAR\n",
       "1      Primary    NonSaudi    Male      2017 Q1    2173      SAR\n",
       "2      Primary       Saudi  Female      2017 Q1    4172      SAR\n",
       "3      Primary       Saudi    Male      2017 Q1    6172      SAR\n",
       "4      Primary    NonSaudi  Female      2017 Q2    1597      SAR"
      ]
     },
     "execution_count": 18,
     "metadata": {},
     "output_type": "execute_result"
    }
   ],
   "source": [
    "# making names of columns of LOWERCASE\n",
    "df= df.rename(columns=str.lower)\n",
    "df.head()"
   ]
  },
  {
   "cell_type": "raw",
   "metadata": {
    "ExecuteTime": {
     "end_time": "2022-06-27T15:06:10.299284Z",
     "start_time": "2022-06-27T15:06:10.291288Z"
    }
   },
   "source": [
    "dividing year quarter into 'year'& 'quarter'"
   ]
  },
  {
   "cell_type": "code",
   "execution_count": 19,
   "metadata": {
    "ExecuteTime": {
     "end_time": "2022-06-27T15:23:42.281122Z",
     "start_time": "2022-06-27T15:23:42.264133Z"
    }
   },
   "outputs": [],
   "source": [
    "df[['year', 'quarter']] = df['year quarter'].str.split(' ', 1, expand=True)"
   ]
  },
  {
   "cell_type": "code",
   "execution_count": 20,
   "metadata": {
    "ExecuteTime": {
     "end_time": "2022-06-27T15:23:44.558724Z",
     "start_time": "2022-06-27T15:23:44.532741Z"
    }
   },
   "outputs": [
    {
     "data": {
      "text/html": [
       "<div>\n",
       "<style scoped>\n",
       "    .dataframe tbody tr th:only-of-type {\n",
       "        vertical-align: middle;\n",
       "    }\n",
       "\n",
       "    .dataframe tbody tr th {\n",
       "        vertical-align: top;\n",
       "    }\n",
       "\n",
       "    .dataframe thead th {\n",
       "        text-align: right;\n",
       "    }\n",
       "</style>\n",
       "<table border=\"1\" class=\"dataframe\">\n",
       "  <thead>\n",
       "    <tr style=\"text-align: right;\">\n",
       "      <th></th>\n",
       "      <th>degree level</th>\n",
       "      <th>nationality</th>\n",
       "      <th>gender</th>\n",
       "      <th>year quarter</th>\n",
       "      <th>salary</th>\n",
       "      <th>currency</th>\n",
       "      <th>year</th>\n",
       "      <th>quarter</th>\n",
       "    </tr>\n",
       "  </thead>\n",
       "  <tbody>\n",
       "    <tr>\n",
       "      <th>0</th>\n",
       "      <td>Primary</td>\n",
       "      <td>NonSaudi</td>\n",
       "      <td>Female</td>\n",
       "      <td>2017 Q1</td>\n",
       "      <td>1590</td>\n",
       "      <td>SAR</td>\n",
       "      <td>2017</td>\n",
       "      <td>Q1</td>\n",
       "    </tr>\n",
       "    <tr>\n",
       "      <th>1</th>\n",
       "      <td>Primary</td>\n",
       "      <td>NonSaudi</td>\n",
       "      <td>Male</td>\n",
       "      <td>2017 Q1</td>\n",
       "      <td>2173</td>\n",
       "      <td>SAR</td>\n",
       "      <td>2017</td>\n",
       "      <td>Q1</td>\n",
       "    </tr>\n",
       "    <tr>\n",
       "      <th>2</th>\n",
       "      <td>Primary</td>\n",
       "      <td>Saudi</td>\n",
       "      <td>Female</td>\n",
       "      <td>2017 Q1</td>\n",
       "      <td>4172</td>\n",
       "      <td>SAR</td>\n",
       "      <td>2017</td>\n",
       "      <td>Q1</td>\n",
       "    </tr>\n",
       "    <tr>\n",
       "      <th>3</th>\n",
       "      <td>Primary</td>\n",
       "      <td>Saudi</td>\n",
       "      <td>Male</td>\n",
       "      <td>2017 Q1</td>\n",
       "      <td>6172</td>\n",
       "      <td>SAR</td>\n",
       "      <td>2017</td>\n",
       "      <td>Q1</td>\n",
       "    </tr>\n",
       "    <tr>\n",
       "      <th>4</th>\n",
       "      <td>Primary</td>\n",
       "      <td>NonSaudi</td>\n",
       "      <td>Female</td>\n",
       "      <td>2017 Q2</td>\n",
       "      <td>1597</td>\n",
       "      <td>SAR</td>\n",
       "      <td>2017</td>\n",
       "      <td>Q2</td>\n",
       "    </tr>\n",
       "  </tbody>\n",
       "</table>\n",
       "</div>"
      ],
      "text/plain": [
       "  degree level nationality  gender year quarter  salary currency  year quarter\n",
       "0      Primary    NonSaudi  Female      2017 Q1    1590      SAR  2017      Q1\n",
       "1      Primary    NonSaudi    Male      2017 Q1    2173      SAR  2017      Q1\n",
       "2      Primary       Saudi  Female      2017 Q1    4172      SAR  2017      Q1\n",
       "3      Primary       Saudi    Male      2017 Q1    6172      SAR  2017      Q1\n",
       "4      Primary    NonSaudi  Female      2017 Q2    1597      SAR  2017      Q2"
      ]
     },
     "execution_count": 20,
     "metadata": {},
     "output_type": "execute_result"
    }
   ],
   "source": [
    "df.head()"
   ]
  },
  {
   "cell_type": "code",
   "execution_count": 22,
   "metadata": {
    "ExecuteTime": {
     "end_time": "2022-06-27T15:23:52.099312Z",
     "start_time": "2022-06-27T15:23:52.071327Z"
    }
   },
   "outputs": [
    {
     "data": {
      "text/html": [
       "<div>\n",
       "<style scoped>\n",
       "    .dataframe tbody tr th:only-of-type {\n",
       "        vertical-align: middle;\n",
       "    }\n",
       "\n",
       "    .dataframe tbody tr th {\n",
       "        vertical-align: top;\n",
       "    }\n",
       "\n",
       "    .dataframe thead th {\n",
       "        text-align: right;\n",
       "    }\n",
       "</style>\n",
       "<table border=\"1\" class=\"dataframe\">\n",
       "  <thead>\n",
       "    <tr style=\"text-align: right;\">\n",
       "      <th></th>\n",
       "      <th>degree level</th>\n",
       "      <th>nationality</th>\n",
       "      <th>gender</th>\n",
       "      <th>salary</th>\n",
       "      <th>currency</th>\n",
       "      <th>year</th>\n",
       "      <th>quarter</th>\n",
       "    </tr>\n",
       "  </thead>\n",
       "  <tbody>\n",
       "    <tr>\n",
       "      <th>0</th>\n",
       "      <td>Primary</td>\n",
       "      <td>NonSaudi</td>\n",
       "      <td>Female</td>\n",
       "      <td>1590</td>\n",
       "      <td>SAR</td>\n",
       "      <td>2017</td>\n",
       "      <td>Q1</td>\n",
       "    </tr>\n",
       "    <tr>\n",
       "      <th>1</th>\n",
       "      <td>Primary</td>\n",
       "      <td>NonSaudi</td>\n",
       "      <td>Male</td>\n",
       "      <td>2173</td>\n",
       "      <td>SAR</td>\n",
       "      <td>2017</td>\n",
       "      <td>Q1</td>\n",
       "    </tr>\n",
       "    <tr>\n",
       "      <th>2</th>\n",
       "      <td>Primary</td>\n",
       "      <td>Saudi</td>\n",
       "      <td>Female</td>\n",
       "      <td>4172</td>\n",
       "      <td>SAR</td>\n",
       "      <td>2017</td>\n",
       "      <td>Q1</td>\n",
       "    </tr>\n",
       "    <tr>\n",
       "      <th>3</th>\n",
       "      <td>Primary</td>\n",
       "      <td>Saudi</td>\n",
       "      <td>Male</td>\n",
       "      <td>6172</td>\n",
       "      <td>SAR</td>\n",
       "      <td>2017</td>\n",
       "      <td>Q1</td>\n",
       "    </tr>\n",
       "  </tbody>\n",
       "</table>\n",
       "</div>"
      ],
      "text/plain": [
       "  degree level nationality  gender  salary currency  year quarter\n",
       "0      Primary    NonSaudi  Female    1590      SAR  2017      Q1\n",
       "1      Primary    NonSaudi    Male    2173      SAR  2017      Q1\n",
       "2      Primary       Saudi  Female    4172      SAR  2017      Q1\n",
       "3      Primary       Saudi    Male    6172      SAR  2017      Q1"
      ]
     },
     "execution_count": 22,
     "metadata": {},
     "output_type": "execute_result"
    }
   ],
   "source": [
    "# drop year quarter column\n",
    "df.drop(['year quarter'], axis=1, inplace=True)\n",
    "df.head(4)"
   ]
  },
  {
   "cell_type": "code",
   "execution_count": 23,
   "metadata": {
    "ExecuteTime": {
     "end_time": "2022-06-27T15:24:02.223345Z",
     "start_time": "2022-06-27T15:24:02.205356Z"
    }
   },
   "outputs": [
    {
     "data": {
      "text/plain": [
       "(504, 7)"
      ]
     },
     "execution_count": 23,
     "metadata": {},
     "output_type": "execute_result"
    }
   ],
   "source": [
    "df.shape"
   ]
  },
  {
   "cell_type": "code",
   "execution_count": 26,
   "metadata": {
    "ExecuteTime": {
     "end_time": "2022-06-27T15:24:41.189249Z",
     "start_time": "2022-06-27T15:24:40.877457Z"
    }
   },
   "outputs": [
    {
     "data": {
      "text/html": [
       "<div>\n",
       "<style scoped>\n",
       "    .dataframe tbody tr th:only-of-type {\n",
       "        vertical-align: middle;\n",
       "    }\n",
       "\n",
       "    .dataframe tbody tr th {\n",
       "        vertical-align: top;\n",
       "    }\n",
       "\n",
       "    .dataframe thead th {\n",
       "        text-align: right;\n",
       "    }\n",
       "</style>\n",
       "<table border=\"1\" class=\"dataframe\">\n",
       "  <thead>\n",
       "    <tr style=\"text-align: right;\">\n",
       "      <th></th>\n",
       "      <th>salary</th>\n",
       "    </tr>\n",
       "  </thead>\n",
       "  <tbody>\n",
       "    <tr>\n",
       "      <th>count</th>\n",
       "      <td>504.000000</td>\n",
       "    </tr>\n",
       "    <tr>\n",
       "      <th>mean</th>\n",
       "      <td>8950.031746</td>\n",
       "    </tr>\n",
       "    <tr>\n",
       "      <th>std</th>\n",
       "      <td>6372.635277</td>\n",
       "    </tr>\n",
       "    <tr>\n",
       "      <th>min</th>\n",
       "      <td>1331.000000</td>\n",
       "    </tr>\n",
       "    <tr>\n",
       "      <th>25%</th>\n",
       "      <td>4194.000000</td>\n",
       "    </tr>\n",
       "    <tr>\n",
       "      <th>50%</th>\n",
       "      <td>7890.500000</td>\n",
       "    </tr>\n",
       "    <tr>\n",
       "      <th>75%</th>\n",
       "      <td>12448.750000</td>\n",
       "    </tr>\n",
       "    <tr>\n",
       "      <th>max</th>\n",
       "      <td>35622.000000</td>\n",
       "    </tr>\n",
       "  </tbody>\n",
       "</table>\n",
       "</div>"
      ],
      "text/plain": [
       "             salary\n",
       "count    504.000000\n",
       "mean    8950.031746\n",
       "std     6372.635277\n",
       "min     1331.000000\n",
       "25%     4194.000000\n",
       "50%     7890.500000\n",
       "75%    12448.750000\n",
       "max    35622.000000"
      ]
     },
     "execution_count": 26,
     "metadata": {},
     "output_type": "execute_result"
    }
   ],
   "source": [
    "df.describe()"
   ]
  },
  {
   "cell_type": "code",
   "execution_count": 35,
   "metadata": {
    "ExecuteTime": {
     "end_time": "2022-06-27T15:29:57.495347Z",
     "start_time": "2022-06-27T15:29:57.481353Z"
    }
   },
   "outputs": [],
   "source": [
    "import matplotlib.pyplot as plt"
   ]
  },
  {
   "cell_type": "code",
   "execution_count": 53,
   "metadata": {
    "ExecuteTime": {
     "end_time": "2022-06-27T15:38:43.320814Z",
     "start_time": "2022-06-27T15:38:43.297825Z"
    }
   },
   "outputs": [
    {
     "data": {
      "text/plain": [
       "427    Saudi\n",
       "Name: nationality, dtype: object"
      ]
     },
     "execution_count": 53,
     "metadata": {},
     "output_type": "execute_result"
    }
   ],
   "source": [
    "# the nationality of the highest salary\n",
    "dff=df[df[\"salary\"]==df[\"salary\"].max()]\n",
    "dff.nationality"
   ]
  },
  {
   "cell_type": "code",
   "execution_count": 57,
   "metadata": {
    "ExecuteTime": {
     "end_time": "2022-06-27T15:41:16.763767Z",
     "start_time": "2022-06-27T15:41:16.744782Z"
    }
   },
   "outputs": [],
   "source": [
    "# the mean average of salaries according to degree level\n",
    "dfe=df.groupby(\"degree level\")[\"salary\"].mean()"
   ]
  },
  {
   "cell_type": "code",
   "execution_count": 59,
   "metadata": {
    "ExecuteTime": {
     "end_time": "2022-06-27T15:41:45.501922Z",
     "start_time": "2022-06-27T15:41:45.488927Z"
    }
   },
   "outputs": [
    {
     "data": {
      "text/plain": [
       "degree level\n",
       "Bachelor          9535.555556\n",
       "Diploma           7036.694444\n",
       "Doctorate        19835.458333\n",
       "Intermediate      4101.527778\n",
       "Master Degree    13797.875000\n",
       "Primary           3569.041667\n",
       "Secondary         4774.069444\n",
       "Name: salary, dtype: float64"
      ]
     },
     "execution_count": 59,
     "metadata": {},
     "output_type": "execute_result"
    }
   ],
   "source": [
    "dfe"
   ]
  },
  {
   "cell_type": "code",
   "execution_count": 64,
   "metadata": {
    "ExecuteTime": {
     "end_time": "2022-06-27T15:45:46.531841Z",
     "start_time": "2022-06-27T15:45:46.514852Z"
    }
   },
   "outputs": [
    {
     "data": {
      "text/plain": [
       "degree level   year\n",
       "Bachelor       2017     9402.5000\n",
       "               2018     9634.0000\n",
       "               2019     9864.5000\n",
       "               2020     9325.6250\n",
       "               2021     9366.7500\n",
       "Diploma        2017     6791.3125\n",
       "               2018     7092.1250\n",
       "               2019     7405.3750\n",
       "               2020     7007.0625\n",
       "               2021     6738.5000\n",
       "Doctorate      2017    18590.1875\n",
       "               2018    18918.0000\n",
       "               2019    19599.0625\n",
       "               2020    20205.8750\n",
       "               2021    23892.8750\n",
       "Intermediate   2017     3934.2500\n",
       "               2018     4207.0625\n",
       "               2019     4194.6250\n",
       "               2020     4163.6250\n",
       "               2021     3914.6250\n",
       "Master Degree  2017    13321.0625\n",
       "               2018    13388.0625\n",
       "               2019    14076.8125\n",
       "               2020    13586.3125\n",
       "               2021    15436.3750\n",
       "Primary        2017     3487.3750\n",
       "               2018     3554.1875\n",
       "               2019     3734.5000\n",
       "               2020     3649.2500\n",
       "               2021     3270.7500\n",
       "Secondary      2017     4800.3750\n",
       "               2018     4815.6875\n",
       "               2019     4923.3750\n",
       "               2020     4744.1250\n",
       "               2021     4399.5000\n",
       "Name: salary, dtype: float64"
      ]
     },
     "execution_count": 64,
     "metadata": {},
     "output_type": "execute_result"
    }
   ],
   "source": [
    "# how the salaries changed over last 5 years\n",
    "df.groupby([\"degree level\",\"year\"])[\"salary\"].mean()"
   ]
  },
  {
   "cell_type": "code",
   "execution_count": 66,
   "metadata": {
    "ExecuteTime": {
     "end_time": "2022-06-27T15:47:21.818641Z",
     "start_time": "2022-06-27T15:47:21.528056Z"
    }
   },
   "outputs": [
    {
     "data": {
      "text/html": [
       "<div>\n",
       "<style scoped>\n",
       "    .dataframe tbody tr th:only-of-type {\n",
       "        vertical-align: middle;\n",
       "    }\n",
       "\n",
       "    .dataframe tbody tr th {\n",
       "        vertical-align: top;\n",
       "    }\n",
       "\n",
       "    .dataframe thead th {\n",
       "        text-align: right;\n",
       "    }\n",
       "</style>\n",
       "<table border=\"1\" class=\"dataframe\">\n",
       "  <thead>\n",
       "    <tr style=\"text-align: right;\">\n",
       "      <th></th>\n",
       "      <th></th>\n",
       "      <th>salary</th>\n",
       "    </tr>\n",
       "    <tr>\n",
       "      <th>gender</th>\n",
       "      <th>degree level</th>\n",
       "      <th></th>\n",
       "    </tr>\n",
       "  </thead>\n",
       "  <tbody>\n",
       "    <tr>\n",
       "      <th rowspan=\"7\" valign=\"top\">Female</th>\n",
       "      <th>Bachelor</th>\n",
       "      <td>8417.750000</td>\n",
       "    </tr>\n",
       "    <tr>\n",
       "      <th>Diploma</th>\n",
       "      <td>6694.055556</td>\n",
       "    </tr>\n",
       "    <tr>\n",
       "      <th>Doctorate</th>\n",
       "      <td>17172.750000</td>\n",
       "    </tr>\n",
       "    <tr>\n",
       "      <th>Intermediate</th>\n",
       "      <td>3161.000000</td>\n",
       "    </tr>\n",
       "    <tr>\n",
       "      <th>Master Degree</th>\n",
       "      <td>11605.166667</td>\n",
       "    </tr>\n",
       "    <tr>\n",
       "      <th>Primary</th>\n",
       "      <td>2929.444444</td>\n",
       "    </tr>\n",
       "    <tr>\n",
       "      <th>Secondary</th>\n",
       "      <td>3671.750000</td>\n",
       "    </tr>\n",
       "    <tr>\n",
       "      <th rowspan=\"7\" valign=\"top\">Male</th>\n",
       "      <th>Bachelor</th>\n",
       "      <td>10653.361111</td>\n",
       "    </tr>\n",
       "    <tr>\n",
       "      <th>Diploma</th>\n",
       "      <td>7379.333333</td>\n",
       "    </tr>\n",
       "    <tr>\n",
       "      <th>Doctorate</th>\n",
       "      <td>22498.166667</td>\n",
       "    </tr>\n",
       "    <tr>\n",
       "      <th>Intermediate</th>\n",
       "      <td>5042.055556</td>\n",
       "    </tr>\n",
       "    <tr>\n",
       "      <th>Master Degree</th>\n",
       "      <td>15990.583333</td>\n",
       "    </tr>\n",
       "    <tr>\n",
       "      <th>Primary</th>\n",
       "      <td>4208.638889</td>\n",
       "    </tr>\n",
       "    <tr>\n",
       "      <th>Secondary</th>\n",
       "      <td>5876.388889</td>\n",
       "    </tr>\n",
       "  </tbody>\n",
       "</table>\n",
       "</div>"
      ],
      "text/plain": [
       "                            salary\n",
       "gender degree level               \n",
       "Female Bachelor        8417.750000\n",
       "       Diploma         6694.055556\n",
       "       Doctorate      17172.750000\n",
       "       Intermediate    3161.000000\n",
       "       Master Degree  11605.166667\n",
       "       Primary         2929.444444\n",
       "       Secondary       3671.750000\n",
       "Male   Bachelor       10653.361111\n",
       "       Diploma         7379.333333\n",
       "       Doctorate      22498.166667\n",
       "       Intermediate    5042.055556\n",
       "       Master Degree  15990.583333\n",
       "       Primary         4208.638889\n",
       "       Secondary       5876.388889"
      ]
     },
     "execution_count": 66,
     "metadata": {},
     "output_type": "execute_result"
    }
   ],
   "source": [
    "# the difference between salaries of males and females\n",
    "df.groupby([\"gender\",\"degree level\"]).mean()"
   ]
  },
  {
   "cell_type": "code",
   "execution_count": 68,
   "metadata": {
    "ExecuteTime": {
     "end_time": "2022-06-27T15:49:37.170228Z",
     "start_time": "2022-06-27T15:49:37.151237Z"
    }
   },
   "outputs": [
    {
     "data": {
      "text/plain": [
       "nationality\n",
       "NonSaudi     6663.587302\n",
       "Saudi       11236.476190\n",
       "Name: salary, dtype: float64"
      ]
     },
     "execution_count": 68,
     "metadata": {},
     "output_type": "execute_result"
    }
   ],
   "source": [
    "# is there a difference in salaries between saudi and nonsaudi ?\n",
    "df.groupby(\"nationality\")[\"salary\"].mean()"
   ]
  },
  {
   "cell_type": "code",
   "execution_count": 69,
   "metadata": {
    "ExecuteTime": {
     "end_time": "2022-06-27T15:51:11.365834Z",
     "start_time": "2022-06-27T15:51:11.330858Z"
    }
   },
   "outputs": [
    {
     "data": {
      "text/html": [
       "<div>\n",
       "<style scoped>\n",
       "    .dataframe tbody tr th:only-of-type {\n",
       "        vertical-align: middle;\n",
       "    }\n",
       "\n",
       "    .dataframe tbody tr th {\n",
       "        vertical-align: top;\n",
       "    }\n",
       "\n",
       "    .dataframe thead th {\n",
       "        text-align: right;\n",
       "    }\n",
       "</style>\n",
       "<table border=\"1\" class=\"dataframe\">\n",
       "  <thead>\n",
       "    <tr style=\"text-align: right;\">\n",
       "      <th></th>\n",
       "      <th></th>\n",
       "      <th>salary</th>\n",
       "    </tr>\n",
       "    <tr>\n",
       "      <th>year</th>\n",
       "      <th>quarter</th>\n",
       "      <th></th>\n",
       "    </tr>\n",
       "  </thead>\n",
       "  <tbody>\n",
       "    <tr>\n",
       "      <th rowspan=\"4\" valign=\"top\">2017</th>\n",
       "      <th>Q1</th>\n",
       "      <td>8777.821429</td>\n",
       "    </tr>\n",
       "    <tr>\n",
       "      <th>Q2</th>\n",
       "      <td>8644.857143</td>\n",
       "    </tr>\n",
       "    <tr>\n",
       "      <th>Q3</th>\n",
       "      <td>8622.250000</td>\n",
       "    </tr>\n",
       "    <tr>\n",
       "      <th>Q4</th>\n",
       "      <td>8427.678571</td>\n",
       "    </tr>\n",
       "    <tr>\n",
       "      <th rowspan=\"4\" valign=\"top\">2018</th>\n",
       "      <th>Q1</th>\n",
       "      <td>8551.678571</td>\n",
       "    </tr>\n",
       "    <tr>\n",
       "      <th>Q2</th>\n",
       "      <td>9013.642857</td>\n",
       "    </tr>\n",
       "    <tr>\n",
       "      <th>Q3</th>\n",
       "      <td>9062.928571</td>\n",
       "    </tr>\n",
       "    <tr>\n",
       "      <th>Q4</th>\n",
       "      <td>8576.964286</td>\n",
       "    </tr>\n",
       "    <tr>\n",
       "      <th rowspan=\"4\" valign=\"top\">2019</th>\n",
       "      <th>Q1</th>\n",
       "      <td>8865.107143</td>\n",
       "    </tr>\n",
       "    <tr>\n",
       "      <th>Q2</th>\n",
       "      <td>9189.892857</td>\n",
       "    </tr>\n",
       "    <tr>\n",
       "      <th>Q3</th>\n",
       "      <td>9106.571429</td>\n",
       "    </tr>\n",
       "    <tr>\n",
       "      <th>Q4</th>\n",
       "      <td>9294.571429</td>\n",
       "    </tr>\n",
       "    <tr>\n",
       "      <th rowspan=\"4\" valign=\"top\">2020</th>\n",
       "      <th>Q1</th>\n",
       "      <td>9443.642857</td>\n",
       "    </tr>\n",
       "    <tr>\n",
       "      <th>Q2</th>\n",
       "      <td>8662.214286</td>\n",
       "    </tr>\n",
       "    <tr>\n",
       "      <th>Q3</th>\n",
       "      <td>8609.214286</td>\n",
       "    </tr>\n",
       "    <tr>\n",
       "      <th>Q4</th>\n",
       "      <td>9103.142857</td>\n",
       "    </tr>\n",
       "    <tr>\n",
       "      <th rowspan=\"2\" valign=\"top\">2021</th>\n",
       "      <th>Q1</th>\n",
       "      <td>9550.607143</td>\n",
       "    </tr>\n",
       "    <tr>\n",
       "      <th>Q2</th>\n",
       "      <td>9597.785714</td>\n",
       "    </tr>\n",
       "  </tbody>\n",
       "</table>\n",
       "</div>"
      ],
      "text/plain": [
       "                   salary\n",
       "year quarter             \n",
       "2017 Q1       8777.821429\n",
       "     Q2       8644.857143\n",
       "     Q3       8622.250000\n",
       "     Q4       8427.678571\n",
       "2018 Q1       8551.678571\n",
       "     Q2       9013.642857\n",
       "     Q3       9062.928571\n",
       "     Q4       8576.964286\n",
       "2019 Q1       8865.107143\n",
       "     Q2       9189.892857\n",
       "     Q3       9106.571429\n",
       "     Q4       9294.571429\n",
       "2020 Q1       9443.642857\n",
       "     Q2       8662.214286\n",
       "     Q3       8609.214286\n",
       "     Q4       9103.142857\n",
       "2021 Q1       9550.607143\n",
       "     Q2       9597.785714"
      ]
     },
     "execution_count": 69,
     "metadata": {},
     "output_type": "execute_result"
    }
   ],
   "source": [
    "# had the salaries been chsnged during QUARETRS?\n",
    "df.groupby([\"year\",\"quarter\"]).mean()"
   ]
  },
  {
   "cell_type": "code",
   "execution_count": null,
   "metadata": {},
   "outputs": [],
   "source": []
  }
 ],
 "metadata": {
  "kernelspec": {
   "display_name": "Python 3",
   "language": "python",
   "name": "python3"
  },
  "language_info": {
   "codemirror_mode": {
    "name": "ipython",
    "version": 3
   },
   "file_extension": ".py",
   "mimetype": "text/x-python",
   "name": "python",
   "nbconvert_exporter": "python",
   "pygments_lexer": "ipython3",
   "version": "3.7.6"
  },
  "toc": {
   "base_numbering": 1,
   "nav_menu": {},
   "number_sections": true,
   "sideBar": true,
   "skip_h1_title": false,
   "title_cell": "Table of Contents",
   "title_sidebar": "Contents",
   "toc_cell": false,
   "toc_position": {},
   "toc_section_display": true,
   "toc_window_display": false
  },
  "varInspector": {
   "cols": {
    "lenName": 16,
    "lenType": 16,
    "lenVar": 40
   },
   "kernels_config": {
    "python": {
     "delete_cmd_postfix": "",
     "delete_cmd_prefix": "del ",
     "library": "var_list.py",
     "varRefreshCmd": "print(var_dic_list())"
    },
    "r": {
     "delete_cmd_postfix": ") ",
     "delete_cmd_prefix": "rm(",
     "library": "var_list.r",
     "varRefreshCmd": "cat(var_dic_list()) "
    }
   },
   "types_to_exclude": [
    "module",
    "function",
    "builtin_function_or_method",
    "instance",
    "_Feature"
   ],
   "window_display": false
  }
 },
 "nbformat": 4,
 "nbformat_minor": 4
}
